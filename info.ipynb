{
 "cells": [
  {
   "cell_type": "code",
   "execution_count": 1,
   "id": "395c7ea2-bd2d-4add-a053-e2e3347fd9db",
   "metadata": {},
   "outputs": [],
   "source": [
    "import pandas as pd"
   ]
  },
  {
   "cell_type": "code",
   "execution_count": 2,
   "id": "c7e8d1f2-4a36-4c6f-aaa9-0ad86d9a00a4",
   "metadata": {},
   "outputs": [
    {
     "name": "stdout",
     "output_type": "stream",
     "text": [
      "     Name  Age   Sex\n",
      "0    aman   20  Male\n",
      "1  tanmoy   21  Male\n",
      "2     joy   14  Male\n",
      "3    deep   32  Male\n"
     ]
    }
   ],
   "source": [
    "data = {'Name':['aman', 'tanmoy', 'joy', 'deep'], 'Age':[20,21,14,32], 'Sex':['Male','Male','Male','Male']}\n",
    "newlg = pd.DataFrame(data)\n",
    "print(newlg)"
   ]
  },
  {
   "cell_type": "code",
   "execution_count": 4,
   "id": "a82b9bef-0bec-4588-b07f-62f9f7027245",
   "metadata": {},
   "outputs": [
    {
     "data": {
      "text/plain": [
       "Name     joy\n",
       "Age       14\n",
       "Sex     Male\n",
       "Name: 2, dtype: object"
      ]
     },
     "execution_count": 4,
     "metadata": {},
     "output_type": "execute_result"
    }
   ],
   "source": [
    "newlg.iloc[2]"
   ]
  },
  {
   "cell_type": "code",
   "execution_count": 9,
   "id": "729b1c5b-0282-489c-84a5-42517fccd80a",
   "metadata": {},
   "outputs": [
    {
     "data": {
      "text/plain": [
       "0      aman\n",
       "1    tanmoy\n",
       "2       joy\n",
       "3      deep\n",
       "Name: Name, dtype: object"
      ]
     },
     "execution_count": 9,
     "metadata": {},
     "output_type": "execute_result"
    }
   ],
   "source": [
    "newlg['Name']"
   ]
  },
  {
   "cell_type": "code",
   "execution_count": 8,
   "id": "9253f904-d214-483e-8984-282f48731723",
   "metadata": {},
   "outputs": [
    {
     "name": "stdout",
     "output_type": "stream",
     "text": [
      "0    22\n",
      "1    32\n",
      "2    16\n",
      "Name: Age, dtype: int64\n"
     ]
    }
   ],
   "source": [
    "ages = pd.Series([22,32,16] , name=\"Age\")\n",
    "print(ages)"
   ]
  },
  {
   "cell_type": "code",
   "execution_count": null,
   "id": "6d0ec017-67df-4a21-8bf3-9a569ef22e92",
   "metadata": {},
   "outputs": [],
   "source": []
  }
 ],
 "metadata": {
  "kernelspec": {
   "display_name": "Python 3 (ipykernel)",
   "language": "python",
   "name": "python3"
  },
  "language_info": {
   "codemirror_mode": {
    "name": "ipython",
    "version": 3
   },
   "file_extension": ".py",
   "mimetype": "text/x-python",
   "name": "python",
   "nbconvert_exporter": "python",
   "pygments_lexer": "ipython3",
   "version": "3.8.0"
  }
 },
 "nbformat": 4,
 "nbformat_minor": 5
}
