{
 "cells": [
  {
   "cell_type": "code",
   "execution_count": 1,
   "id": "71d4da16-08d3-4ba7-ad0c-32e5c3e7d1b9",
   "metadata": {},
   "outputs": [],
   "source": [
    "import pandas as pd "
   ]
  },
  {
   "cell_type": "code",
   "execution_count": 2,
   "id": "00a32cdd-f55a-47c7-becc-21fced445a24",
   "metadata": {},
   "outputs": [
    {
     "name": "stdout",
     "output_type": "stream",
     "text": [
      "       apple  orange\n",
      "joy        2       7\n",
      "sayan      7       8\n",
      "aman       9       4\n",
      "deep       4       2\n"
     ]
    },
    {
     "data": {
      "text/plain": [
       "apple     2\n",
       "orange    7\n",
       "Name: joy, dtype: int64"
      ]
     },
     "execution_count": 2,
     "metadata": {},
     "output_type": "execute_result"
    }
   ],
   "source": [
    "data = {'apple':[2,7,9,4], 'orange':[7,8,4,2]}\n",
    "newlg = pd.DataFrame(data, index=['joy', 'sayan','aman','deep'])\n",
    "print(newlg)\n",
    "newlg.loc['joy']"
   ]
  },
  {
   "cell_type": "code",
   "execution_count": 3,
   "id": "71c40963-0399-4ebe-8211-1cf5b6889fda",
   "metadata": {},
   "outputs": [
    {
     "data": {
      "text/plain": [
       "joy      2\n",
       "sayan    7\n",
       "aman     9\n",
       "deep     4\n",
       "Name: apple, dtype: int64"
      ]
     },
     "execution_count": 3,
     "metadata": {},
     "output_type": "execute_result"
    }
   ],
   "source": [
    "newlg['apple']"
   ]
  },
  {
   "cell_type": "code",
   "execution_count": null,
   "id": "7f14ad77-483d-4a34-b377-3b3164b0b3e3",
   "metadata": {},
   "outputs": [],
   "source": []
  }
 ],
 "metadata": {
  "kernelspec": {
   "display_name": "Python 3 (ipykernel)",
   "language": "python",
   "name": "python3"
  },
  "language_info": {
   "codemirror_mode": {
    "name": "ipython",
    "version": 3
   },
   "file_extension": ".py",
   "mimetype": "text/x-python",
   "name": "python",
   "nbconvert_exporter": "python",
   "pygments_lexer": "ipython3",
   "version": "3.8.0"
  }
 },
 "nbformat": 4,
 "nbformat_minor": 5
}
