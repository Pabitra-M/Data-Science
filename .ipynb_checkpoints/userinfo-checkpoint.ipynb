{
 "cells": [
  {
   "cell_type": "code",
   "execution_count": 1,
   "id": "7f740e75-bc87-40c1-bc50-3221289f9950",
   "metadata": {},
   "outputs": [],
   "source": [
    "import pandas as pd"
   ]
  },
  {
   "cell_type": "code",
   "execution_count": 2,
   "id": "8a5c4213-45ed-46a0-b239-7e6ad85ed6b1",
   "metadata": {},
   "outputs": [
    {
     "name": "stdout",
     "output_type": "stream",
     "text": [
      "    id first_name    last_name                        email       gender\n",
      "0    1      Ruddy       Ivakin             rivakin0@ftc.gov         Male\n",
      "1    2    Winslow      Geertje         wgeertje1@tumblr.com         Male\n",
      "2    3      Leroy      Heckney            lheckney2@hud.gov         Male\n",
      "3    4      Aurie        Imlen        aimlen3@clickbank.net       Female\n",
      "4    5     Oralee    Whitehall         owhitehall4@blog.com  Genderqueer\n",
      "5    6      Luisa      Belshaw             lbelshaw5@nhs.uk       Female\n",
      "6    7     Clemmy  Banaszewski   cbanaszewski6@usatoday.com   Non-binary\n",
      "7    8     Godwin     Harberer       gharberer7@twitter.com         Male\n",
      "8    9     Sisile       Spiers            sspiers8@narod.ru       Female\n",
      "9   10     Maddie    Brazelton   mbrazelton9@bravesites.com       Female\n",
      "10  11     Shawna     Redfield         sredfielda@desdev.cn       Female\n",
      "11  12   Ethelred        Epine       eepineb@indiatimes.com         Male\n",
      "12  13      Hinze        Harty       hhartyc@feedburner.com         Male\n",
      "13  14      Jonas       Espasa                jespasad@g.co         Male\n",
      "14  15     Floria     Macquire  fmacquiree@reverbnation.com       Female\n",
      "15  16     Willow      Barosch         wbaroschf@paypal.com       Female\n",
      "16  17       Roze       Whilde            rwhildeg@dmoz.org       Female\n",
      "17  18     Mendie     Loughnan        mloughnanh@oracle.com         Male\n",
      "18  19      Emmey       Durnan       edurnani@angelfire.com     Bigender\n",
      "19  20     Gaynor      Swatten           gswattenj@yale.edu       Female\n"
     ]
    }
   ],
   "source": [
    "df = pd.read_csv('opdata.csv')\n",
    "print(df)"
   ]
  },
  {
   "cell_type": "code",
   "execution_count": 3,
   "id": "20ac1a03-55eb-4b73-93db-e98ac4f9d98d",
   "metadata": {},
   "outputs": [
    {
     "data": {
      "text/plain": [
       "id                                4\n",
       "first_name                    Aurie\n",
       "last_name                     Imlen\n",
       "email         aimlen3@clickbank.net\n",
       "gender                       Female\n",
       "Name: 3, dtype: object"
      ]
     },
     "execution_count": 3,
     "metadata": {},
     "output_type": "execute_result"
    }
   ],
   "source": [
    "df.iloc[3]"
   ]
  },
  {
   "cell_type": "code",
   "execution_count": null,
   "id": "069aab4a-b854-4da1-a501-c50da26200df",
   "metadata": {},
   "outputs": [],
   "source": []
  }
 ],
 "metadata": {
  "kernelspec": {
   "display_name": "Python 3 (ipykernel)",
   "language": "python",
   "name": "python3"
  },
  "language_info": {
   "codemirror_mode": {
    "name": "ipython",
    "version": 3
   },
   "file_extension": ".py",
   "mimetype": "text/x-python",
   "name": "python",
   "nbconvert_exporter": "python",
   "pygments_lexer": "ipython3",
   "version": "3.8.0"
  }
 },
 "nbformat": 4,
 "nbformat_minor": 5
}
