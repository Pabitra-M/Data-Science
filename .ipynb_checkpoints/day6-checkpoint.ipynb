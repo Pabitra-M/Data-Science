{
 "cells": [
  {
   "cell_type": "code",
   "execution_count": 1,
   "id": "487d7ec3-f47f-484b-ad2d-2f3bcfb76615",
   "metadata": {},
   "outputs": [],
   "source": [
    "import numpy as np"
   ]
  },
  {
   "cell_type": "code",
   "execution_count": 2,
   "id": "96630d5b-1ea6-44ca-9c07-c317b3a7f70b",
   "metadata": {},
   "outputs": [
    {
     "name": "stdout",
     "output_type": "stream",
     "text": [
      "(array([2, 3, 4], dtype=int64),)\n"
     ]
    }
   ],
   "source": [
    "arr = np.array([1,2,3,4,5])\n",
    "inso = np.where(arr > 2)\n",
    "print(inso)"
   ]
  },
  {
   "cell_type": "code",
   "execution_count": 3,
   "id": "89f82565-837e-48a5-b111-915b90383991",
   "metadata": {},
   "outputs": [
    {
     "name": "stdout",
     "output_type": "stream",
     "text": [
      "[[ 0  1  2]\n",
      " [ 3  4  5]\n",
      " [ 6  7  8]\n",
      " [ 9 10 11]\n",
      " [12 13 14]]\n"
     ]
    }
   ],
   "source": [
    "a = np.arange(15).reshape(5,3)\n",
    "print(a)"
   ]
  },
  {
   "cell_type": "code",
   "execution_count": 4,
   "id": "b852ed06-8c99-4205-b576-254ec5564e18",
   "metadata": {},
   "outputs": [
    {
     "data": {
      "text/plain": [
       "(array([1, 1, 1, 2, 2, 2, 3, 3, 3, 4, 4, 4], dtype=int64),\n",
       " array([0, 1, 2, 0, 1, 2, 0, 1, 2, 0, 1, 2], dtype=int64))"
      ]
     },
     "execution_count": 4,
     "metadata": {},
     "output_type": "execute_result"
    }
   ],
   "source": [
    "np.where(a>2)"
   ]
  },
  {
   "cell_type": "code",
   "execution_count": 5,
   "id": "05d43def-3942-4732-a99c-669cd6dd2382",
   "metadata": {},
   "outputs": [],
   "source": [
    "al = np.array([2,2,3,4,9])"
   ]
  },
  {
   "cell_type": "code",
   "execution_count": 7,
   "id": "ff4b0066-7e1b-41d5-afb7-dcd6db33cd83",
   "metadata": {},
   "outputs": [
    {
     "data": {
      "text/plain": [
       "array([4, 9])"
      ]
     },
     "execution_count": 7,
     "metadata": {},
     "output_type": "execute_result"
    }
   ],
   "source": [
    "al[np.where(al>3)]"
   ]
  },
  {
   "cell_type": "code",
   "execution_count": 8,
   "id": "4bb7b39e-8367-4fdb-8030-9d1cd3167fa3",
   "metadata": {},
   "outputs": [
    {
     "data": {
      "text/plain": [
       "(array([3, 4], dtype=int64),)"
      ]
     },
     "execution_count": 8,
     "metadata": {},
     "output_type": "execute_result"
    }
   ],
   "source": [
    "np.where(al>3)"
   ]
  },
  {
   "cell_type": "code",
   "execution_count": 9,
   "id": "aa4e5300-3928-4e1a-85ba-9f4e1b9d9cf8",
   "metadata": {},
   "outputs": [
    {
     "name": "stdout",
     "output_type": "stream",
     "text": [
      "[ 1  2  6  8 18]\n"
     ]
    }
   ],
   "source": [
    "al = np.array([1,2,3,4,9])\n",
    "new_arr = np.where(al > 2, al * 2, al)\n",
    "print(new_arr)\n"
   ]
  },
  {
   "cell_type": "code",
   "execution_count": 11,
   "id": "246edf84-92b8-44a6-a04a-71587e506802",
   "metadata": {},
   "outputs": [
    {
     "data": {
      "text/plain": [
       "array([ 1, 20, 30,  4,  9])"
      ]
     },
     "execution_count": 11,
     "metadata": {},
     "output_type": "execute_result"
    }
   ],
   "source": [
    "al = np.array([1,2,3,4,9])\n",
    "np.put(al, [1,2],[20,30])\n",
    "al"
   ]
  },
  {
   "cell_type": "code",
   "execution_count": 16,
   "id": "96d0f3e6-0ee4-42dc-979c-83611d7390e1",
   "metadata": {},
   "outputs": [
    {
     "name": "stdout",
     "output_type": "stream",
     "text": [
      "before [1 2 3]\n",
      "before [4 5 6]\n",
      "after [4 5 6]\n",
      "after [4 5 6]\n"
     ]
    }
   ],
   "source": [
    "ar1 =  np.array([1,2,3])\n",
    "ar2 =  np.array([4,5,6])\n",
    "print(\"before\",ar1)\n",
    "print(\"before\",ar2)\n",
    "np.copyto(ar1, ar2)\n",
    "print(\"after\",ar1)\n",
    "print(\"after\",ar2)"
   ]
  },
  {
   "cell_type": "code",
   "execution_count": 18,
   "id": "f714d10e-f01d-44d5-abd6-0e53d6fd29f3",
   "metadata": {},
   "outputs": [
    {
     "data": {
      "text/plain": [
       "array([1, 6])"
      ]
     },
     "execution_count": 18,
     "metadata": {},
     "output_type": "execute_result"
    }
   ],
   "source": [
    "ar3 =  np.array([1,2,3,6,9,])\n",
    "ar4 =  np.array([4,5,6,1,0,4])\n",
    "np.intersect1d(ar3,ar4)"
   ]
  },
  {
   "cell_type": "code",
   "execution_count": 19,
   "id": "95a7ee28-d466-4359-9264-86a770d3e488",
   "metadata": {},
   "outputs": [
    {
     "data": {
      "text/plain": [
       "(array([1, 6]), array([0, 3], dtype=int64), array([3, 2], dtype=int64))"
      ]
     },
     "execution_count": 19,
     "metadata": {},
     "output_type": "execute_result"
    }
   ],
   "source": [
    "np.intersect1d(ar3,ar4, return_indices =True)"
   ]
  },
  {
   "cell_type": "code",
   "execution_count": 20,
   "id": "286237bb-2caa-4050-807c-b196a39843f9",
   "metadata": {},
   "outputs": [
    {
     "data": {
      "text/plain": [
       "array([2, 3, 9])"
      ]
     },
     "execution_count": 20,
     "metadata": {},
     "output_type": "execute_result"
    }
   ],
   "source": [
    "ar3 =  np.array([1,2,3,6,9,])\n",
    "ar4 =  np.array([4,5,6,1,0,4])\n",
    "np.setdiff1d(ar3,ar4)"
   ]
  },
  {
   "cell_type": "code",
   "execution_count": 21,
   "id": "f0acbc49-0c4b-47eb-884c-fcb4ff3de5a0",
   "metadata": {},
   "outputs": [
    {
     "data": {
      "text/plain": [
       "array([0, 2, 3, 4, 5, 9])"
      ]
     },
     "execution_count": 21,
     "metadata": {},
     "output_type": "execute_result"
    }
   ],
   "source": [
    "ar3 =  np.array([1,2,3,6,9,])\n",
    "ar4 =  np.array([4,5,6,1,0,4])\n",
    "np.setxor1d(ar3,ar4)"
   ]
  },
  {
   "cell_type": "code",
   "execution_count": 22,
   "id": "0380f3b3-00c0-451e-b31b-b0c36c04dedc",
   "metadata": {},
   "outputs": [
    {
     "data": {
      "text/plain": [
       "array([0, 1, 2, 3, 4, 5, 6, 9])"
      ]
     },
     "execution_count": 22,
     "metadata": {},
     "output_type": "execute_result"
    }
   ],
   "source": [
    "ar3 =  np.array([1,2,3,6,9])\n",
    "ar4 =  np.array([4,5,6,1,0,4])\n",
    "np.union1d(ar3,ar4)"
   ]
  },
  {
   "cell_type": "code",
   "execution_count": 24,
   "id": "415ded56-e774-4255-852b-0048b540f3fc",
   "metadata": {},
   "outputs": [
    {
     "data": {
      "text/plain": [
       "[array([[1, 2],\n",
       "        [4, 5]]),\n",
       " array([[3, 6],\n",
       "        [6, 1]])]"
      ]
     },
     "execution_count": 24,
     "metadata": {},
     "output_type": "execute_result"
    }
   ],
   "source": [
    "ar3 =  np.array([[1,2,3,6],[4,5,6,1]])\n",
    "np.hsplit(ar3,2)"
   ]
  },
  {
   "cell_type": "code",
   "execution_count": 25,
   "id": "6d66fdbc-129a-44b4-9cea-9efe2ca266af",
   "metadata": {},
   "outputs": [
    {
     "data": {
      "text/plain": [
       "[array([[1, 2, 3, 6]]), array([[4, 5, 6, 1]])]"
      ]
     },
     "execution_count": 25,
     "metadata": {},
     "output_type": "execute_result"
    }
   ],
   "source": [
    "\n",
    "np.vsplit(ar3,2)"
   ]
  },
  {
   "cell_type": "code",
   "execution_count": 26,
   "id": "724accc3-b266-447a-b1cf-1f2b9e262b40",
   "metadata": {},
   "outputs": [
    {
     "name": "stdout",
     "output_type": "stream",
     "text": [
      "[[[1 2]\n",
      "  [4 5]]\n",
      "\n",
      " [[3 6]\n",
      "  [6 1]]]\n"
     ]
    }
   ],
   "source": [
    "arr1 =  np.array([[1,2],[3,6]])\n",
    "arr2 =  np.array([[4,5],[6,1]])\n",
    "star = np.stack((arr1,arr2), axis=1)\n",
    "print(star)"
   ]
  },
  {
   "cell_type": "code",
   "execution_count": 30,
   "id": "c4705865-2c21-4cf8-ac9d-28183b25d497",
   "metadata": {},
   "outputs": [
    {
     "data": {
      "text/plain": [
       "array([1, 2, 3, 6, 9, 4, 5, 6, 1, 0, 4])"
      ]
     },
     "execution_count": 30,
     "metadata": {},
     "output_type": "execute_result"
    }
   ],
   "source": [
    "ar3 =  np.array([1,2,3,6,9])\n",
    "ar4 =  np.array([4,5,6,1,0,4])\n",
    "np.hstack((ar3,ar4))"
   ]
  },
  {
   "cell_type": "code",
   "execution_count": 32,
   "id": "9b4b557e-0cca-44f3-82a3-f1578da79dd8",
   "metadata": {},
   "outputs": [
    {
     "data": {
      "text/plain": [
       "array([[1, 2, 3, 6, 9],\n",
       "       [4, 5, 6, 1, 0]])"
      ]
     },
     "execution_count": 32,
     "metadata": {},
     "output_type": "execute_result"
    }
   ],
   "source": [
    "ar3 =  np.array([1,2,3,6,9])\n",
    "ar4 =  np.array([4,5,6,1,0])\n",
    "np.vstack((ar3,ar4))"
   ]
  },
  {
   "cell_type": "code",
   "execution_count": 29,
   "id": "e637fa83-864c-4b24-aabf-c1dd8a9fd9b0",
   "metadata": {},
   "outputs": [
    {
     "name": "stdout",
     "output_type": "stream",
     "text": [
      "[[1 2]\n",
      " [3 6]\n",
      " [4 5]\n",
      " [6 1]]\n"
     ]
    }
   ],
   "source": [
    "arr1 =  np.array([[1,2],[3,6]])\n",
    "arr2 =  np.array([[4,5],[6,1]])\n",
    "star = np.concatenate((arr1,arr2), axis=0)\n",
    "print(star)"
   ]
  },
  {
   "cell_type": "code",
   "execution_count": null,
   "id": "7455883c-df0f-45df-9134-c4bc11a24d56",
   "metadata": {},
   "outputs": [],
   "source": [
    "ar3 =  np.array([0.51,0.22,0.3,0.6,0.19])\n",
    "ar4 =  np.array([4,5,6,1,0])\n",
    "np.vstack((ar3,ar4))"
   ]
  },
  {
   "cell_type": "code",
   "execution_count": 33,
   "id": "09e7254b-d025-4beb-a89e-ddfad56ea20c",
   "metadata": {},
   "outputs": [
    {
     "data": {
      "text/plain": [
       "array(['2017', '2017', '2017'], dtype='<U4')"
      ]
     },
     "execution_count": 33,
     "metadata": {},
     "output_type": "execute_result"
    }
   ],
   "source": [
    "np.repeat('2017',3)"
   ]
  },
  {
   "cell_type": "code",
   "execution_count": 34,
   "id": "4491c2a3-5084-45f3-9e02-d894a8760e52",
   "metadata": {},
   "outputs": [],
   "source": [
    "import pandas as pd"
   ]
  },
  {
   "cell_type": "code",
   "execution_count": null,
   "id": "131aeb02-2c5d-491d-854a-266df52da2fb",
   "metadata": {},
   "outputs": [],
   "source": [
    "fru = pd.DataFrame ([['apple',150] ['banana',120] ['orange',190]])"
   ]
  }
 ],
 "metadata": {
  "kernelspec": {
   "display_name": "Python 3 (ipykernel)",
   "language": "python",
   "name": "python3"
  },
  "language_info": {
   "codemirror_mode": {
    "name": "ipython",
    "version": 3
   },
   "file_extension": ".py",
   "mimetype": "text/x-python",
   "name": "python",
   "nbconvert_exporter": "python",
   "pygments_lexer": "ipython3",
   "version": "3.8.0"
  }
 },
 "nbformat": 4,
 "nbformat_minor": 5
}
