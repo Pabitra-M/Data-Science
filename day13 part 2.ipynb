{
 "cells": [
  {
   "cell_type": "code",
   "execution_count": 2,
   "id": "03c1d740-e871-4dae-b675-10e9b1424d9a",
   "metadata": {},
   "outputs": [],
   "source": [
    "import matplotlib.pyplot as plt\n",
    "\n",
    "import numpy as np\n",
    "from sklearn.datasets import load_breast_cancer\n",
    "from sklearn.model_selection import train_test_split\n",
    "from sklearn.linear_model import LogisticRegression\n",
    "from sklearn.model_selection import KFold, cross_val_score\n",
    "from sklearn.preprocessing import StandardScaler\n",
    "from sklearn.metrics import accuracy_score, classification_report, confusion_matrix"
   ]
  },
  {
   "cell_type": "code",
   "execution_count": 7,
   "id": "74235431-a087-4dba-834b-287c58ecf637",
   "metadata": {},
   "outputs": [],
   "source": [
    "data = load_breast_cancer()\n",
    "x, y = data.data, data.target"
   ]
  },
  {
   "cell_type": "code",
   "execution_count": 8,
   "id": "c56775ad-3075-490b-94ea-7cec013a0a4a",
   "metadata": {},
   "outputs": [],
   "source": [
    "sacler = StandardScaler()\n",
    "x_train_scaler = sacler.fit_transform(x)"
   ]
  },
  {
   "cell_type": "code",
   "execution_count": 10,
   "id": "2beb9cc3-4383-4bae-9804-3c4b87b1bd10",
   "metadata": {},
   "outputs": [],
   "source": [
    "model = LogisticRegression(max_iter=1000)"
   ]
  },
  {
   "cell_type": "code",
   "execution_count": 13,
   "id": "60383125-f605-434e-9700-975c6efdf02d",
   "metadata": {},
   "outputs": [],
   "source": [
    "kf = KFold(n_splits=5)"
   ]
  },
  {
   "cell_type": "code",
   "execution_count": 14,
   "id": "e958a28c-7789-4b9b-9e52-09a0aafca7ce",
   "metadata": {},
   "outputs": [],
   "source": [
    "scores = cross_val_score(model, x_train_scaler, y, cv=kf)"
   ]
  },
  {
   "cell_type": "code",
   "execution_count": 16,
   "id": "aaf5cf7a-73fc-4463-af81-4e3d1a27f877",
   "metadata": {},
   "outputs": [
    {
     "name": "stdout",
     "output_type": "stream",
     "text": [
      "cross_val_score [0.97368421 0.95614035 0.98245614 0.98245614 0.99115044]\n",
      "Mean accuracy 0.9771774569166279\n"
     ]
    }
   ],
   "source": [
    "print(\"cross_val_score\", scores)\n",
    "print(\"Mean accuracy\", np.mean(scores))"
   ]
  },
  {
   "cell_type": "code",
   "execution_count": 21,
   "id": "1efd9d2d-f7e2-47bc-8d36-15a48db7ea3e",
   "metadata": {},
   "outputs": [
    {
     "name": "stdout",
     "output_type": "stream",
     "text": [
      "best fold for accyuracy: 5\n"
     ]
    }
   ],
   "source": [
    "best_fold = np.argmax(scores) + 1\n",
    "print(\"best fold for accyuracy:\", best_fold)"
   ]
  },
  {
   "cell_type": "code",
   "execution_count": null,
   "id": "d3fae3ff-6412-493b-b512-dc484a0fc235",
   "metadata": {},
   "outputs": [],
   "source": []
  }
 ],
 "metadata": {
  "kernelspec": {
   "display_name": "Python 3 (ipykernel)",
   "language": "python",
   "name": "python3"
  },
  "language_info": {
   "codemirror_mode": {
    "name": "ipython",
    "version": 3
   },
   "file_extension": ".py",
   "mimetype": "text/x-python",
   "name": "python",
   "nbconvert_exporter": "python",
   "pygments_lexer": "ipython3",
   "version": "3.8.0"
  }
 },
 "nbformat": 4,
 "nbformat_minor": 5
}
