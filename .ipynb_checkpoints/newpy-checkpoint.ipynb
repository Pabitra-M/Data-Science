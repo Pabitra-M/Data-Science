{
 "cells": [
  {
   "cell_type": "code",
   "execution_count": 1,
   "id": "b821b670-78dc-4d4f-a7d0-ae339d035005",
   "metadata": {},
   "outputs": [],
   "source": [
    "import numpy as np"
   ]
  },
  {
   "cell_type": "code",
   "execution_count": null,
   "id": "a94f0815-43aa-4abf-beb1-47ee58caddbf",
   "metadata": {},
   "outputs": [],
   "source": []
  },
  {
   "cell_type": "code",
   "execution_count": 2,
   "id": "b9418228-024f-4c63-a0e2-321a67254ad7",
   "metadata": {},
   "outputs": [
    {
     "name": "stdout",
     "output_type": "stream",
     "text": [
      "[[1 2 3 4]\n",
      " [5 6 7 8]\n",
      " [9 3 7 8]]\n"
     ]
    }
   ],
   "source": [
    "df = np.array([[1,2,3,4],[5,6,7,8],[9,3,7,8]])\n",
    "print(df)"
   ]
  },
  {
   "cell_type": "code",
   "execution_count": 3,
   "id": "3de64735-d9b6-44aa-a238-86a2fd7fbe3e",
   "metadata": {},
   "outputs": [
    {
     "name": "stdout",
     "output_type": "stream",
     "text": [
      "[1 2 3 4]\n"
     ]
    }
   ],
   "source": [
    "print(df[0])"
   ]
  },
  {
   "cell_type": "code",
   "execution_count": 4,
   "id": "1b252689-c908-4768-881a-5016acaa7b4c",
   "metadata": {},
   "outputs": [
    {
     "name": "stdout",
     "output_type": "stream",
     "text": [
      "['1' '3' '5' '6' 'OK']\n"
     ]
    }
   ],
   "source": [
    "li = [1,3,5,6,'OK']\n",
    "liar = np.array(li)\n",
    "print(liar)"
   ]
  },
  {
   "cell_type": "code",
   "execution_count": 5,
   "id": "309822b8-37ad-428f-8756-4bb6333d22d8",
   "metadata": {},
   "outputs": [
    {
     "name": "stdout",
     "output_type": "stream",
     "text": [
      "[[[1 2 3]\n",
      "  [4 5 6]]\n",
      "\n",
      " [[7 8 9]\n",
      "  [4 8 6]]]\n"
     ]
    }
   ],
   "source": [
    "pk = np.array([[[1,2,3],[4,5,6]],[[7,8,9], [4,8,6]]])\n",
    "print(pk)"
   ]
  },
  {
   "cell_type": "code",
   "execution_count": 6,
   "id": "391ece15-6e9f-4f16-b94d-42a0bdeb52fa",
   "metadata": {},
   "outputs": [
    {
     "data": {
      "text/plain": [
       "array([ 10. ,  47.5,  85. , 122.5, 160. ])"
      ]
     },
     "execution_count": 6,
     "metadata": {},
     "output_type": "execute_result"
    }
   ],
   "source": [
    "np.linspace(10,160,5)"
   ]
  },
  {
   "cell_type": "code",
   "execution_count": 7,
   "id": "bc760aad-d3a4-40bf-86c1-60778400e093",
   "metadata": {},
   "outputs": [
    {
     "data": {
      "text/plain": [
       "array([ 5,  7,  9, 11, 13, 15, 17, 19])"
      ]
     },
     "execution_count": 7,
     "metadata": {},
     "output_type": "execute_result"
    }
   ],
   "source": [
    "np.arange(5,20,2)"
   ]
  },
  {
   "cell_type": "code",
   "execution_count": 8,
   "id": "c1c66cda-d1d3-4cf6-8f6a-68f98a860ec7",
   "metadata": {},
   "outputs": [
    {
     "data": {
      "text/plain": [
       "array([ 7.84376201, 19.85144412, 12.08419384, 13.57218427,  9.47808613])"
      ]
     },
     "execution_count": 8,
     "metadata": {},
     "output_type": "execute_result"
    }
   ],
   "source": [
    "np.random.uniform(5,20,size = 5)"
   ]
  },
  {
   "cell_type": "code",
   "execution_count": 9,
   "id": "bae9c029-7460-458e-871d-5c57d56b7f63",
   "metadata": {},
   "outputs": [
    {
     "data": {
      "text/plain": [
       "array([[0.17333992, 0.52078637, 0.43939494],\n",
       "       [0.79526236, 0.63513212, 0.99036626]])"
      ]
     },
     "execution_count": 9,
     "metadata": {},
     "output_type": "execute_result"
    }
   ],
   "source": [
    "np.random.uniform(size = (2,3))"
   ]
  },
  {
   "cell_type": "code",
   "execution_count": 10,
   "id": "8804eb30-e83a-4334-9def-493f65685bb0",
   "metadata": {},
   "outputs": [
    {
     "data": {
      "text/plain": [
       "array([8, 6, 5, 6, 9, 7, 8, 6])"
      ]
     },
     "execution_count": 10,
     "metadata": {},
     "output_type": "execute_result"
    }
   ],
   "source": [
    "np.random.randint(5,10,8)"
   ]
  },
  {
   "cell_type": "code",
   "execution_count": 11,
   "id": "42ab0c18-3e8a-4bc6-b38e-a2e2e623b9e0",
   "metadata": {},
   "outputs": [
    {
     "data": {
      "text/plain": [
       "array([3.20000000e+01, 1.41323458e+02, 6.24134991e+02, 2.75640359e+03,\n",
       "       1.21732652e+04, 5.37614979e+04, 2.37430024e+05, 1.04857600e+06])"
      ]
     },
     "execution_count": 11,
     "metadata": {},
     "output_type": "execute_result"
    }
   ],
   "source": [
    "np.logspace(5,20,8,base=2)"
   ]
  },
  {
   "cell_type": "code",
   "execution_count": 12,
   "id": "6378354c-36e6-47a8-b16a-264e1cb143dc",
   "metadata": {},
   "outputs": [
    {
     "data": {
      "text/plain": [
       "array([[0, 0, 0],\n",
       "       [0, 0, 0]])"
      ]
     },
     "execution_count": 12,
     "metadata": {},
     "output_type": "execute_result"
    }
   ],
   "source": [
    "np.zeros((2,3), dtype='int')"
   ]
  },
  {
   "cell_type": "code",
   "execution_count": 13,
   "id": "70244580-d38f-4b50-8534-8a1182ddbdb1",
   "metadata": {},
   "outputs": [
    {
     "data": {
      "text/plain": [
       "array([[1, 1, 1],\n",
       "       [1, 1, 1]])"
      ]
     },
     "execution_count": 13,
     "metadata": {},
     "output_type": "execute_result"
    }
   ],
   "source": [
    "np.ones((2,3), dtype='int')"
   ]
  },
  {
   "cell_type": "code",
   "execution_count": 14,
   "id": "bded1f9a-7b9d-4078-bc55-4586fc4b9ae8",
   "metadata": {},
   "outputs": [
    {
     "data": {
      "text/plain": [
       "array([[3, 3, 3],\n",
       "       [3, 3, 3]])"
      ]
     },
     "execution_count": 14,
     "metadata": {},
     "output_type": "execute_result"
    }
   ],
   "source": [
    "np.full((2,3), fill_value = 3)"
   ]
  },
  {
   "cell_type": "code",
   "execution_count": 15,
   "id": "03144f04-3086-49d2-a23a-ce753a02b54a",
   "metadata": {},
   "outputs": [
    {
     "data": {
      "text/plain": [
       "array([[1., 0., 0., 0.],\n",
       "       [0., 1., 0., 0.],\n",
       "       [0., 0., 1., 0.],\n",
       "       [0., 0., 0., 1.]])"
      ]
     },
     "execution_count": 15,
     "metadata": {},
     "output_type": "execute_result"
    }
   ],
   "source": [
    "np.identity(4)"
   ]
  },
  {
   "cell_type": "code",
   "execution_count": 16,
   "id": "8d06e88c-863d-4ecd-94fc-4456a9713433",
   "metadata": {},
   "outputs": [
    {
     "name": "stdout",
     "output_type": "stream",
     "text": [
      "[1 2 2 3 4 5 5 6 7 8]\n"
     ]
    }
   ],
   "source": [
    "li = [1,2,2,3,4,5,5,6,7,8]\n",
    "arr = np.array(li)\n",
    "print(arr)"
   ]
  },
  {
   "cell_type": "code",
   "execution_count": 17,
   "id": "5bcb44e4-8676-4de6-974f-e7cc2e8b5c0b",
   "metadata": {},
   "outputs": [
    {
     "data": {
      "text/plain": [
       "1"
      ]
     },
     "execution_count": 17,
     "metadata": {},
     "output_type": "execute_result"
    }
   ],
   "source": [
    "np.min(arr)"
   ]
  },
  {
   "cell_type": "code",
   "execution_count": 18,
   "id": "83b73694-5369-4c52-8b37-ad9f58a99540",
   "metadata": {},
   "outputs": [
    {
     "data": {
      "text/plain": [
       "8"
      ]
     },
     "execution_count": 18,
     "metadata": {},
     "output_type": "execute_result"
    }
   ],
   "source": [
    "np.max(arr)"
   ]
  },
  {
   "cell_type": "code",
   "execution_count": 19,
   "id": "f5980ea0-7fd1-46fa-b13a-0c1418fdc5c9",
   "metadata": {},
   "outputs": [
    {
     "data": {
      "text/plain": [
       "(array([1, 2, 3, 4, 5, 6, 7, 8]), array([1, 2, 1, 1, 2, 1, 1, 1], dtype=int64))"
      ]
     },
     "execution_count": 19,
     "metadata": {},
     "output_type": "execute_result"
    }
   ],
   "source": [
    "np.unique(arr,return_counts = True )"
   ]
  },
  {
   "cell_type": "code",
   "execution_count": 20,
   "id": "8fbbe3f1-b37c-4a9b-bad8-2c01b0c1421a",
   "metadata": {},
   "outputs": [
    {
     "data": {
      "text/plain": [
       "4"
      ]
     },
     "execution_count": 20,
     "metadata": {},
     "output_type": "execute_result"
    }
   ],
   "source": [
    "np.mean(arr, dtype='int')"
   ]
  },
  {
   "cell_type": "code",
   "execution_count": 21,
   "id": "4ed2f6f3-9f6c-4954-a244-bac414158ee5",
   "metadata": {},
   "outputs": [
    {
     "data": {
      "text/plain": [
       "4.5"
      ]
     },
     "execution_count": 21,
     "metadata": {},
     "output_type": "execute_result"
    }
   ],
   "source": [
    "np.median(arr)"
   ]
  },
  {
   "cell_type": "code",
   "execution_count": 22,
   "id": "1bbaf1fc-dfd8-43b4-a819-f16b22d7dd7d",
   "metadata": {},
   "outputs": [
    {
     "data": {
      "text/plain": [
       "array([0, 1, 2, 2, 6, 6], dtype=int64)"
      ]
     },
     "execution_count": 22,
     "metadata": {},
     "output_type": "execute_result"
    }
   ],
   "source": [
    "list1 = [-0.9,0.3,1.7,1.9,5.8,9.3]\n",
    "arr1 = np.array(list1)\n",
    "bins = np.array([0,1,2,3,4,5])\n",
    "np.digitize(arr1,bins)"
   ]
  },
  {
   "cell_type": "code",
   "execution_count": 23,
   "id": "d53ff66e-f463-409e-ad85-a4b7dc690e7e",
   "metadata": {},
   "outputs": [
    {
     "name": "stdout",
     "output_type": "stream",
     "text": [
      "[[ 8  6 12]\n",
      " [ 3 12 11]\n",
      " [ 8  9 10]\n",
      " [11  9  4]]\n"
     ]
    }
   ],
   "source": [
    "df = np.random.randint(14, size=(4,3))\n",
    "print(df)"
   ]
  },
  {
   "cell_type": "code",
   "execution_count": 24,
   "id": "947800b0-2793-4e54-8877-d7b75f4bddf4",
   "metadata": {},
   "outputs": [
    {
     "data": {
      "text/plain": [
       "array([[ 8,  6, 12,  3],\n",
       "       [12, 11,  8,  9],\n",
       "       [10, 11,  9,  4]])"
      ]
     },
     "execution_count": 24,
     "metadata": {},
     "output_type": "execute_result"
    }
   ],
   "source": [
    "df.reshape(3,4)"
   ]
  },
  {
   "cell_type": "code",
   "execution_count": 25,
   "id": "b19bce7d-014a-4d94-9d82-a6feb92365ee",
   "metadata": {},
   "outputs": [],
   "source": [
    "cd = df.reshape(-1)"
   ]
  },
  {
   "cell_type": "code",
   "execution_count": 26,
   "id": "5b6007bb-9c15-4118-9d43-b2a1f054e663",
   "metadata": {},
   "outputs": [
    {
     "data": {
      "text/plain": [
       "array([[ 8,  6, 12,  3, 12, 11,  8,  9, 10, 11,  9,  4]])"
      ]
     },
     "execution_count": 26,
     "metadata": {},
     "output_type": "execute_result"
    }
   ],
   "source": [
    "np.expand_dims(cd,axis=0)"
   ]
  },
  {
   "cell_type": "code",
   "execution_count": 27,
   "id": "e32ab6e1-2480-49a5-a233-0325c82b013f",
   "metadata": {},
   "outputs": [
    {
     "data": {
      "text/plain": [
       "array([[ 8],\n",
       "       [ 6],\n",
       "       [12],\n",
       "       [ 3],\n",
       "       [12],\n",
       "       [11],\n",
       "       [ 8],\n",
       "       [ 9],\n",
       "       [10],\n",
       "       [11],\n",
       "       [ 9],\n",
       "       [ 4]])"
      ]
     },
     "execution_count": 27,
     "metadata": {},
     "output_type": "execute_result"
    }
   ],
   "source": [
    "np.expand_dims(cd,axis=1)"
   ]
  },
  {
   "cell_type": "code",
   "execution_count": 28,
   "id": "09773ce6-5ea6-4f0d-93c3-73b086b3a7d9",
   "metadata": {},
   "outputs": [
    {
     "data": {
      "text/plain": [
       "array([[1, 1],\n",
       "       [4, 6],\n",
       "       [6, 8]])"
      ]
     },
     "execution_count": 28,
     "metadata": {},
     "output_type": "execute_result"
    }
   ],
   "source": [
    "fd = np.array([[[1],[1]],[[4],[6]],[[6],[8]]])\n",
    "np.squeeze(fd)"
   ]
  },
  {
   "cell_type": "code",
   "execution_count": 29,
   "id": "c51faf47-47a3-41e6-a418-29cca3e785e8",
   "metadata": {},
   "outputs": [
    {
     "data": {
      "text/plain": [
       "5"
      ]
     },
     "execution_count": 29,
     "metadata": {},
     "output_type": "execute_result"
    }
   ],
   "source": [
    "fde = np.array([0,0,1,2,5,9,4,0])\n",
    "np.count_nonzero(fde)"
   ]
  },
  {
   "cell_type": "code",
   "execution_count": 30,
   "id": "230d94c7-3e40-4e71-9acf-93f3040d1aee",
   "metadata": {},
   "outputs": [
    {
     "data": {
      "text/plain": [
       "array([[2],\n",
       "       [3],\n",
       "       [4],\n",
       "       [5],\n",
       "       [6]], dtype=int64)"
      ]
     },
     "execution_count": 30,
     "metadata": {},
     "output_type": "execute_result"
    }
   ],
   "source": [
    "np.argwhere(fde)"
   ]
  },
  {
   "cell_type": "code",
   "execution_count": 31,
   "id": "f5aafcc2-b37b-492c-bc1c-0283d8390a55",
   "metadata": {},
   "outputs": [
    {
     "data": {
      "text/plain": [
       "5"
      ]
     },
     "execution_count": 31,
     "metadata": {},
     "output_type": "execute_result"
    }
   ],
   "source": [
    "np.argmax(fde)"
   ]
  },
  {
   "cell_type": "code",
   "execution_count": 32,
   "id": "e4f21114-1065-4e4e-bf5f-683a8c4f296c",
   "metadata": {},
   "outputs": [
    {
     "data": {
      "text/plain": [
       "0"
      ]
     },
     "execution_count": 32,
     "metadata": {},
     "output_type": "execute_result"
    }
   ],
   "source": [
    "np.argmin(fde)"
   ]
  },
  {
   "cell_type": "code",
   "execution_count": 33,
   "id": "0c0f8c37-dc94-4b5a-8074-5f7dd66dc4c6",
   "metadata": {},
   "outputs": [
    {
     "data": {
      "text/plain": [
       "array([0, 0, 0, 1, 2, 4, 5, 9])"
      ]
     },
     "execution_count": 33,
     "metadata": {},
     "output_type": "execute_result"
    }
   ],
   "source": [
    "np.sort(fde)"
   ]
  },
  {
   "cell_type": "code",
   "execution_count": 34,
   "id": "d89a419c-94f9-4f34-8552-95ea970cda0c",
   "metadata": {},
   "outputs": [
    {
     "data": {
      "text/plain": [
       "array([1, 2, 5, 9, 4, 0])"
      ]
     },
     "execution_count": 34,
     "metadata": {},
     "output_type": "execute_result"
    }
   ],
   "source": [
    "fde = np.array([-1,2,5,9,-4,0])\n",
    "np.abs(fde)"
   ]
  },
  {
   "cell_type": "code",
   "execution_count": 35,
   "id": "2d9b7035-fcc0-4c5c-8f7b-e43af3085827",
   "metadata": {},
   "outputs": [
    {
     "name": "stdout",
     "output_type": "stream",
     "text": [
      "[[0.27784884 0.80073917 0.84891747 0.40028883]\n",
      " [0.03822095 0.24611859 0.49896855 0.27747681]\n",
      " [0.77629989 0.02116109 0.49482741 0.76013016]]\n"
     ]
    }
   ],
   "source": [
    "oka = np.random.random(size=(3,4))\n",
    "print(oka)"
   ]
  },
  {
   "cell_type": "code",
   "execution_count": 37,
   "id": "c57d2cd6-74f7-48fd-8e8a-2ac7f91f9f74",
   "metadata": {},
   "outputs": [
    {
     "data": {
      "text/plain": [
       "array([[0.3, 0.8, 0.8, 0.4],\n",
       "       [0. , 0.2, 0.5, 0.3],\n",
       "       [0.8, 0. , 0.5, 0.8]])"
      ]
     },
     "execution_count": 37,
     "metadata": {},
     "output_type": "execute_result"
    }
   ],
   "source": [
    "np.round(oka, decimals=2)"
   ]
  },
  {
   "cell_type": "code",
   "execution_count": null,
   "id": "6688a75a-a549-4c97-a0a0-b2c37c58c817",
   "metadata": {},
   "outputs": [],
   "source": []
  }
 ],
 "metadata": {
  "kernelspec": {
   "display_name": "Python 3 (ipykernel)",
   "language": "python",
   "name": "python3"
  },
  "language_info": {
   "codemirror_mode": {
    "name": "ipython",
    "version": 3
   },
   "file_extension": ".py",
   "mimetype": "text/x-python",
   "name": "python",
   "nbconvert_exporter": "python",
   "pygments_lexer": "ipython3",
   "version": "3.8.0"
  }
 },
 "nbformat": 4,
 "nbformat_minor": 5
}
