{
 "cells": [
  {
   "cell_type": "code",
   "execution_count": 1,
   "id": "7f740e75-bc87-40c1-bc50-3221289f9950",
   "metadata": {},
   "outputs": [],
   "source": [
    "import pandas as pd"
   ]
  },
  {
   "cell_type": "code",
   "execution_count": 2,
   "id": "8a5c4213-45ed-46a0-b239-7e6ad85ed6b1",
   "metadata": {},
   "outputs": [
    {
     "name": "stdout",
     "output_type": "stream",
     "text": [
      "    id first_name    last_name                        email       gender\n",
      "0    1      Ruddy       Ivakin             rivakin0@ftc.gov         Male\n",
      "1    2    Winslow      Geertje         wgeertje1@tumblr.com         Male\n",
      "2    3      Leroy      Heckney            lheckney2@hud.gov         Male\n",
      "3    4      Aurie        Imlen        aimlen3@clickbank.net       Female\n",
      "4    5     Oralee    Whitehall         owhitehall4@blog.com  Genderqueer\n",
      "5    6      Luisa      Belshaw             lbelshaw5@nhs.uk       Female\n",
      "6    7     Clemmy  Banaszewski   cbanaszewski6@usatoday.com   Non-binary\n",
      "7    8     Godwin     Harberer       gharberer7@twitter.com         Male\n",
      "8    9     Sisile       Spiers            sspiers8@narod.ru       Female\n",
      "9   10     Maddie    Brazelton   mbrazelton9@bravesites.com       Female\n",
      "10  11     Shawna     Redfield         sredfielda@desdev.cn       Female\n",
      "11  12   Ethelred        Epine       eepineb@indiatimes.com         Male\n",
      "12  13      Hinze        Harty       hhartyc@feedburner.com         Male\n",
      "13  14      Jonas       Espasa                jespasad@g.co         Male\n",
      "14  15     Floria     Macquire  fmacquiree@reverbnation.com       Female\n",
      "15  16     Willow      Barosch         wbaroschf@paypal.com       Female\n",
      "16  17       Roze       Whilde            rwhildeg@dmoz.org       Female\n",
      "17  18     Mendie     Loughnan        mloughnanh@oracle.com         Male\n",
      "18  19      Emmey       Durnan       edurnani@angelfire.com     Bigender\n",
      "19  20     Gaynor      Swatten           gswattenj@yale.edu       Female\n"
     ]
    }
   ],
   "source": [
    "df = pd.read_csv('opdata.csv')\n",
    "print(df)"
   ]
  },
  {
   "cell_type": "code",
   "execution_count": 3,
   "id": "20ac1a03-55eb-4b73-93db-e98ac4f9d98d",
   "metadata": {},
   "outputs": [
    {
     "data": {
      "text/plain": [
       "id                                4\n",
       "first_name                    Aurie\n",
       "last_name                     Imlen\n",
       "email         aimlen3@clickbank.net\n",
       "gender                       Female\n",
       "Name: 3, dtype: object"
      ]
     },
     "execution_count": 3,
     "metadata": {},
     "output_type": "execute_result"
    }
   ],
   "source": [
    "df.iloc[3]"
   ]
  },
  {
   "cell_type": "code",
   "execution_count": 4,
   "id": "069aab4a-b854-4da1-a501-c50da26200df",
   "metadata": {},
   "outputs": [
    {
     "data": {
      "text/html": [
       "<div>\n",
       "<style scoped>\n",
       "    .dataframe tbody tr th:only-of-type {\n",
       "        vertical-align: middle;\n",
       "    }\n",
       "\n",
       "    .dataframe tbody tr th {\n",
       "        vertical-align: top;\n",
       "    }\n",
       "\n",
       "    .dataframe thead th {\n",
       "        text-align: right;\n",
       "    }\n",
       "</style>\n",
       "<table border=\"1\" class=\"dataframe\">\n",
       "  <thead>\n",
       "    <tr style=\"text-align: right;\">\n",
       "      <th></th>\n",
       "      <th>id</th>\n",
       "      <th>first_name</th>\n",
       "      <th>last_name</th>\n",
       "      <th>email</th>\n",
       "      <th>gender</th>\n",
       "    </tr>\n",
       "  </thead>\n",
       "  <tbody>\n",
       "    <tr>\n",
       "      <th>0</th>\n",
       "      <td>1</td>\n",
       "      <td>Ruddy</td>\n",
       "      <td>Ivakin</td>\n",
       "      <td>rivakin0@ftc.gov</td>\n",
       "      <td>Male</td>\n",
       "    </tr>\n",
       "    <tr>\n",
       "      <th>1</th>\n",
       "      <td>2</td>\n",
       "      <td>Winslow</td>\n",
       "      <td>Geertje</td>\n",
       "      <td>wgeertje1@tumblr.com</td>\n",
       "      <td>Male</td>\n",
       "    </tr>\n",
       "    <tr>\n",
       "      <th>2</th>\n",
       "      <td>3</td>\n",
       "      <td>Leroy</td>\n",
       "      <td>Heckney</td>\n",
       "      <td>lheckney2@hud.gov</td>\n",
       "      <td>Male</td>\n",
       "    </tr>\n",
       "    <tr>\n",
       "      <th>3</th>\n",
       "      <td>4</td>\n",
       "      <td>Aurie</td>\n",
       "      <td>Imlen</td>\n",
       "      <td>aimlen3@clickbank.net</td>\n",
       "      <td>Female</td>\n",
       "    </tr>\n",
       "    <tr>\n",
       "      <th>4</th>\n",
       "      <td>5</td>\n",
       "      <td>Oralee</td>\n",
       "      <td>Whitehall</td>\n",
       "      <td>owhitehall4@blog.com</td>\n",
       "      <td>Genderqueer</td>\n",
       "    </tr>\n",
       "  </tbody>\n",
       "</table>\n",
       "</div>"
      ],
      "text/plain": [
       "   id first_name  last_name                  email       gender\n",
       "0   1      Ruddy     Ivakin       rivakin0@ftc.gov         Male\n",
       "1   2    Winslow    Geertje   wgeertje1@tumblr.com         Male\n",
       "2   3      Leroy    Heckney      lheckney2@hud.gov         Male\n",
       "3   4      Aurie      Imlen  aimlen3@clickbank.net       Female\n",
       "4   5     Oralee  Whitehall   owhitehall4@blog.com  Genderqueer"
      ]
     },
     "execution_count": 4,
     "metadata": {},
     "output_type": "execute_result"
    }
   ],
   "source": [
    "df.head()"
   ]
  },
  {
   "cell_type": "code",
   "execution_count": 5,
   "id": "b180cb33-aa30-4c0b-8e66-eb1dcb910f2e",
   "metadata": {},
   "outputs": [
    {
     "data": {
      "text/html": [
       "<div>\n",
       "<style scoped>\n",
       "    .dataframe tbody tr th:only-of-type {\n",
       "        vertical-align: middle;\n",
       "    }\n",
       "\n",
       "    .dataframe tbody tr th {\n",
       "        vertical-align: top;\n",
       "    }\n",
       "\n",
       "    .dataframe thead th {\n",
       "        text-align: right;\n",
       "    }\n",
       "</style>\n",
       "<table border=\"1\" class=\"dataframe\">\n",
       "  <thead>\n",
       "    <tr style=\"text-align: right;\">\n",
       "      <th></th>\n",
       "      <th>id</th>\n",
       "      <th>first_name</th>\n",
       "      <th>last_name</th>\n",
       "      <th>email</th>\n",
       "      <th>gender</th>\n",
       "    </tr>\n",
       "  </thead>\n",
       "  <tbody>\n",
       "    <tr>\n",
       "      <th>18</th>\n",
       "      <td>19</td>\n",
       "      <td>Emmey</td>\n",
       "      <td>Durnan</td>\n",
       "      <td>edurnani@angelfire.com</td>\n",
       "      <td>Bigender</td>\n",
       "    </tr>\n",
       "    <tr>\n",
       "      <th>19</th>\n",
       "      <td>20</td>\n",
       "      <td>Gaynor</td>\n",
       "      <td>Swatten</td>\n",
       "      <td>gswattenj@yale.edu</td>\n",
       "      <td>Female</td>\n",
       "    </tr>\n",
       "  </tbody>\n",
       "</table>\n",
       "</div>"
      ],
      "text/plain": [
       "    id first_name last_name                   email    gender\n",
       "18  19      Emmey    Durnan  edurnani@angelfire.com  Bigender\n",
       "19  20     Gaynor   Swatten      gswattenj@yale.edu    Female"
      ]
     },
     "execution_count": 5,
     "metadata": {},
     "output_type": "execute_result"
    }
   ],
   "source": [
    "df.tail(2)"
   ]
  },
  {
   "cell_type": "code",
   "execution_count": 6,
   "id": "db1a6c15-9e8c-475d-870a-c699d9c42db0",
   "metadata": {},
   "outputs": [
    {
     "name": "stdout",
     "output_type": "stream",
     "text": [
      "<class 'pandas.core.frame.DataFrame'>\n",
      "RangeIndex: 20 entries, 0 to 19\n",
      "Data columns (total 5 columns):\n",
      " #   Column      Non-Null Count  Dtype \n",
      "---  ------      --------------  ----- \n",
      " 0   id          20 non-null     int64 \n",
      " 1   first_name  20 non-null     object\n",
      " 2   last_name   20 non-null     object\n",
      " 3   email       20 non-null     object\n",
      " 4   gender      20 non-null     object\n",
      "dtypes: int64(1), object(4)\n",
      "memory usage: 928.0+ bytes\n"
     ]
    }
   ],
   "source": [
    "df.info()"
   ]
  },
  {
   "cell_type": "code",
   "execution_count": 8,
   "id": "29978a9f-9676-4c6e-9edd-741179e57ed8",
   "metadata": {},
   "outputs": [
    {
     "data": {
      "text/plain": [
       "(20, 5)"
      ]
     },
     "execution_count": 8,
     "metadata": {},
     "output_type": "execute_result"
    }
   ],
   "source": [
    "df.shape"
   ]
  },
  {
   "cell_type": "code",
   "execution_count": 10,
   "id": "278a58bd-54f7-4285-96c3-185ae706fb7e",
   "metadata": {},
   "outputs": [
    {
     "data": {
      "text/html": [
       "<div>\n",
       "<style scoped>\n",
       "    .dataframe tbody tr th:only-of-type {\n",
       "        vertical-align: middle;\n",
       "    }\n",
       "\n",
       "    .dataframe tbody tr th {\n",
       "        vertical-align: top;\n",
       "    }\n",
       "\n",
       "    .dataframe thead th {\n",
       "        text-align: right;\n",
       "    }\n",
       "</style>\n",
       "<table border=\"1\" class=\"dataframe\">\n",
       "  <thead>\n",
       "    <tr style=\"text-align: right;\">\n",
       "      <th></th>\n",
       "      <th>id</th>\n",
       "    </tr>\n",
       "  </thead>\n",
       "  <tbody>\n",
       "    <tr>\n",
       "      <th>count</th>\n",
       "      <td>20.00000</td>\n",
       "    </tr>\n",
       "    <tr>\n",
       "      <th>mean</th>\n",
       "      <td>10.50000</td>\n",
       "    </tr>\n",
       "    <tr>\n",
       "      <th>std</th>\n",
       "      <td>5.91608</td>\n",
       "    </tr>\n",
       "    <tr>\n",
       "      <th>min</th>\n",
       "      <td>1.00000</td>\n",
       "    </tr>\n",
       "    <tr>\n",
       "      <th>25%</th>\n",
       "      <td>5.75000</td>\n",
       "    </tr>\n",
       "    <tr>\n",
       "      <th>50%</th>\n",
       "      <td>10.50000</td>\n",
       "    </tr>\n",
       "    <tr>\n",
       "      <th>75%</th>\n",
       "      <td>15.25000</td>\n",
       "    </tr>\n",
       "    <tr>\n",
       "      <th>max</th>\n",
       "      <td>20.00000</td>\n",
       "    </tr>\n",
       "  </tbody>\n",
       "</table>\n",
       "</div>"
      ],
      "text/plain": [
       "             id\n",
       "count  20.00000\n",
       "mean   10.50000\n",
       "std     5.91608\n",
       "min     1.00000\n",
       "25%     5.75000\n",
       "50%    10.50000\n",
       "75%    15.25000\n",
       "max    20.00000"
      ]
     },
     "execution_count": 10,
     "metadata": {},
     "output_type": "execute_result"
    }
   ],
   "source": [
    "df.describe()"
   ]
  },
  {
   "cell_type": "code",
   "execution_count": null,
   "id": "6d8436cb-46ad-4704-acd9-a9a26255d88e",
   "metadata": {},
   "outputs": [],
   "source": []
  }
 ],
 "metadata": {
  "kernelspec": {
   "display_name": "Python 3 (ipykernel)",
   "language": "python",
   "name": "python3"
  },
  "language_info": {
   "codemirror_mode": {
    "name": "ipython",
    "version": 3
   },
   "file_extension": ".py",
   "mimetype": "text/x-python",
   "name": "python",
   "nbconvert_exporter": "python",
   "pygments_lexer": "ipython3",
   "version": "3.8.0"
  }
 },
 "nbformat": 4,
 "nbformat_minor": 5
}
